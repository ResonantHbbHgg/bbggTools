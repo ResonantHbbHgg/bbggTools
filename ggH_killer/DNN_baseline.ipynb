{
 "cells": [
  {
   "cell_type": "code",
   "execution_count": 1,
   "metadata": {},
   "outputs": [],
   "source": [
    "import uproot\n",
    "import numpy as np\n",
    "import matplotlib.pyplot as plt\n",
    "import pandas as pd\n",
    "%matplotlib inline"
   ]
  },
  {
   "cell_type": "markdown",
   "metadata": {},
   "source": [
    "### variables used for training"
   ]
  },
  {
   "cell_type": "code",
   "execution_count": 2,
   "metadata": {},
   "outputs": [],
   "source": [
    "variables = ['subleadingPhoton_pt', 'leadingPhoton_pt'     , 'subleadingPhoton_eta'        ,\n",
    "             'leadingPhoton_eta'  , 'subleadingJet_pt'     , 'leadingJet_pt'               , \n",
    "             'subleadingJet_eta'  , 'leadingJet_eta'       , 'leadingJet_DeepCSV'          ,  \n",
    "             'PhoJetMinDr'        , 'subleadingJet_DeepCSV', 'dijetCandidatePtOverdiHiggsM', \n",
    "             'absCosTheta_bb'     , 'HHbbggMVA'            , 'absCosThetaStar_CS'          , \n",
    "             'sigmaMJets'         , 'PhoJetotherDr']\n",
    "w = ['weight']"
   ]
  },
  {
   "cell_type": "code",
   "execution_count": 3,
   "metadata": {},
   "outputs": [
    {
     "name": "stdout",
     "output_type": "stream",
     "text": [
      "[[ 7.22487411e+01  1.30155106e+02 -1.38112152e+00 ...  6.87454343e-01\n",
      "   1.34371281e-01  2.24524546e+00]\n",
      " [ 4.72007790e+01  1.70818069e+02 -4.39545996e-02 ...  3.50090355e-01\n",
      "   6.31418079e-02  3.23068118e+00]\n",
      " [ 5.23401871e+01  1.91114853e+02  2.17155516e-01 ...  1.10923506e-01\n",
      "   6.03511855e-02  2.87924099e+00]\n",
      " ...\n",
      " [ 6.49209976e+01  6.58984528e+01 -8.29264045e-01 ...  9.68705177e-01\n",
      "   1.04560807e-01  3.17477751e+00]\n",
      " [ 4.41462059e+01  8.06903534e+01 -3.64570856e-01 ...  6.48728371e-01\n",
      "   7.91566297e-02  2.21153641e+00]\n",
      " [ 3.70323639e+01  1.22164246e+02 -1.17238069e+00 ...  2.46764794e-01\n",
      "   1.48466468e-01  2.93314481e+00]]\n"
     ]
    },
    {
     "data": {
      "text/html": [
       "<div>\n",
       "<style scoped>\n",
       "    .dataframe tbody tr th:only-of-type {\n",
       "        vertical-align: middle;\n",
       "    }\n",
       "\n",
       "    .dataframe tbody tr th {\n",
       "        vertical-align: top;\n",
       "    }\n",
       "\n",
       "    .dataframe thead th {\n",
       "        text-align: right;\n",
       "    }\n",
       "</style>\n",
       "<table border=\"1\" class=\"dataframe\">\n",
       "  <thead>\n",
       "    <tr style=\"text-align: right;\">\n",
       "      <th></th>\n",
       "      <th>0</th>\n",
       "      <th>1</th>\n",
       "      <th>2</th>\n",
       "      <th>3</th>\n",
       "      <th>4</th>\n",
       "      <th>5</th>\n",
       "      <th>6</th>\n",
       "      <th>7</th>\n",
       "      <th>8</th>\n",
       "      <th>9</th>\n",
       "      <th>10</th>\n",
       "      <th>11</th>\n",
       "      <th>12</th>\n",
       "      <th>13</th>\n",
       "      <th>14</th>\n",
       "      <th>15</th>\n",
       "      <th>16</th>\n",
       "    </tr>\n",
       "  </thead>\n",
       "  <tbody>\n",
       "    <tr>\n",
       "      <th>0</th>\n",
       "      <td>72.248741</td>\n",
       "      <td>130.155106</td>\n",
       "      <td>-1.381122</td>\n",
       "      <td>-0.983321</td>\n",
       "      <td>60.271523</td>\n",
       "      <td>173.781281</td>\n",
       "      <td>-0.290333</td>\n",
       "      <td>0.280785</td>\n",
       "      <td>0.107359</td>\n",
       "      <td>1.627427</td>\n",
       "      <td>0.937772</td>\n",
       "      <td>0.300940</td>\n",
       "      <td>0.323522</td>\n",
       "      <td>0.221290</td>\n",
       "      <td>0.687454</td>\n",
       "      <td>0.134371</td>\n",
       "      <td>2.245245</td>\n",
       "    </tr>\n",
       "    <tr>\n",
       "      <th>1</th>\n",
       "      <td>47.200779</td>\n",
       "      <td>170.818069</td>\n",
       "      <td>-0.043955</td>\n",
       "      <td>-0.132630</td>\n",
       "      <td>32.632187</td>\n",
       "      <td>138.225998</td>\n",
       "      <td>-2.051849</td>\n",
       "      <td>-0.309031</td>\n",
       "      <td>0.640311</td>\n",
       "      <td>1.913295</td>\n",
       "      <td>0.043082</td>\n",
       "      <td>0.373334</td>\n",
       "      <td>0.663933</td>\n",
       "      <td>0.345626</td>\n",
       "      <td>0.350090</td>\n",
       "      <td>0.063142</td>\n",
       "      <td>3.230681</td>\n",
       "    </tr>\n",
       "    <tr>\n",
       "      <th>2</th>\n",
       "      <td>52.340187</td>\n",
       "      <td>191.114853</td>\n",
       "      <td>0.217156</td>\n",
       "      <td>-0.764093</td>\n",
       "      <td>40.515575</td>\n",
       "      <td>125.473175</td>\n",
       "      <td>-1.641922</td>\n",
       "      <td>-0.541176</td>\n",
       "      <td>0.999677</td>\n",
       "      <td>2.541774</td>\n",
       "      <td>0.978204</td>\n",
       "      <td>0.363827</td>\n",
       "      <td>0.557005</td>\n",
       "      <td>0.958707</td>\n",
       "      <td>0.110924</td>\n",
       "      <td>0.060351</td>\n",
       "      <td>2.879241</td>\n",
       "    </tr>\n",
       "    <tr>\n",
       "      <th>3</th>\n",
       "      <td>56.015404</td>\n",
       "      <td>60.226284</td>\n",
       "      <td>0.388162</td>\n",
       "      <td>1.242162</td>\n",
       "      <td>115.318954</td>\n",
       "      <td>273.932983</td>\n",
       "      <td>-0.532042</td>\n",
       "      <td>0.024166</td>\n",
       "      <td>0.905206</td>\n",
       "      <td>0.776604</td>\n",
       "      <td>0.803230</td>\n",
       "      <td>0.879961</td>\n",
       "      <td>0.817004</td>\n",
       "      <td>0.423930</td>\n",
       "      <td>0.508766</td>\n",
       "      <td>0.048089</td>\n",
       "      <td>3.157310</td>\n",
       "    </tr>\n",
       "    <tr>\n",
       "      <th>4</th>\n",
       "      <td>40.310959</td>\n",
       "      <td>501.206635</td>\n",
       "      <td>1.950851</td>\n",
       "      <td>1.140412</td>\n",
       "      <td>31.213484</td>\n",
       "      <td>244.626251</td>\n",
       "      <td>-0.135219</td>\n",
       "      <td>0.975129</td>\n",
       "      <td>0.997151</td>\n",
       "      <td>1.412559</td>\n",
       "      <td>0.992393</td>\n",
       "      <td>0.484264</td>\n",
       "      <td>0.866719</td>\n",
       "      <td>0.970944</td>\n",
       "      <td>0.455877</td>\n",
       "      <td>0.070914</td>\n",
       "      <td>2.119584</td>\n",
       "    </tr>\n",
       "  </tbody>\n",
       "</table>\n",
       "</div>"
      ],
      "text/plain": [
       "          0           1         2         3           4           5   \\\n",
       "0  72.248741  130.155106 -1.381122 -0.983321   60.271523  173.781281   \n",
       "1  47.200779  170.818069 -0.043955 -0.132630   32.632187  138.225998   \n",
       "2  52.340187  191.114853  0.217156 -0.764093   40.515575  125.473175   \n",
       "3  56.015404   60.226284  0.388162  1.242162  115.318954  273.932983   \n",
       "4  40.310959  501.206635  1.950851  1.140412   31.213484  244.626251   \n",
       "\n",
       "         6         7         8         9         10        11        12  \\\n",
       "0 -0.290333  0.280785  0.107359  1.627427  0.937772  0.300940  0.323522   \n",
       "1 -2.051849 -0.309031  0.640311  1.913295  0.043082  0.373334  0.663933   \n",
       "2 -1.641922 -0.541176  0.999677  2.541774  0.978204  0.363827  0.557005   \n",
       "3 -0.532042  0.024166  0.905206  0.776604  0.803230  0.879961  0.817004   \n",
       "4 -0.135219  0.975129  0.997151  1.412559  0.992393  0.484264  0.866719   \n",
       "\n",
       "         13        14        15        16  \n",
       "0  0.221290  0.687454  0.134371  2.245245  \n",
       "1  0.345626  0.350090  0.063142  3.230681  \n",
       "2  0.958707  0.110924  0.060351  2.879241  \n",
       "3  0.423930  0.508766  0.048089  3.157310  \n",
       "4  0.970944  0.455877  0.070914  2.119584  "
      ]
     },
     "execution_count": 3,
     "metadata": {},
     "output_type": "execute_result"
    }
   ],
   "source": [
    "treename = 'bbggSelectionTree'\n",
    "filename = {}\n",
    "upfile = {}\n",
    "params = {}\n",
    "weights = {}\n",
    "df = {}\n",
    "\n",
    "filename['sig'] = 'Files/Signal_merged.root' # path to files\n",
    "filename['bkg'] = 'Files/Bkg_merged.root'\n",
    "\n",
    "upfile['bkg'] = uproot.open(filename['bkg'])\n",
    "upfile['sig'] = uproot.open(filename['sig'])\n",
    "\n",
    "params['bkg'] = upfile['bkg'][treename].arrays(variables)\n",
    "params['sig'] = upfile['sig'][treename].arrays(variables)\n",
    "\n",
    "weights['bkg'] = upfile['bkg'][treename].arrays(w)\n",
    "weights['sig'] = upfile['sig'][treename].arrays(w)\n",
    "\n",
    "df['sig'] = pd.DataFrame(params['sig'])\n",
    "df['bkg'] = pd.DataFrame(params['bkg'])\n",
    "\n",
    "weights_sig = pd.DataFrame(weights['sig'])\n",
    "weights_bkg = pd.DataFrame(weights['bkg'])\n",
    "\n",
    "weights_bkg *= 10000.\n",
    "weights_sig *= 100000.\n",
    "sample_weights = np.concatenate([weights_sig, weights_bkg])\n",
    "\n",
    "#getting a numpy array from two pandas data frames\n",
    "X_ = np.concatenate([df['sig'].values,df['bkg'].values])\n",
    "#creating numpy array for target variables\n",
    "Y = np.concatenate([np.ones(len(df['sig'])),\n",
    "                        np.zeros(len(df['bkg']))])\n",
    "print(X_)\n",
    "\n",
    "df2 = pd.DataFrame(X_)\n",
    "df2.head()\n"
   ]
  },
  {
   "cell_type": "markdown",
   "metadata": {},
   "source": [
    "### baseline keras model"
   ]
  },
  {
   "cell_type": "code",
   "execution_count": 4,
   "metadata": {},
   "outputs": [
    {
     "name": "stderr",
     "output_type": "stream",
     "text": [
      "Using TensorFlow backend.\n"
     ]
    },
    {
     "name": "stdout",
     "output_type": "stream",
     "text": [
      "WARNING:tensorflow:From /usr/local/lib/python3.6/dist-packages/tensorflow/python/framework/op_def_library.py:263: colocate_with (from tensorflow.python.framework.ops) is deprecated and will be removed in a future version.\n",
      "Instructions for updating:\n",
      "Colocations handled automatically by placer.\n",
      "WARNING:tensorflow:From /usr/local/lib/python3.6/dist-packages/keras/backend/tensorflow_backend.py:3445: calling dropout (from tensorflow.python.ops.nn_ops) with keep_prob is deprecated and will be removed in a future version.\n",
      "Instructions for updating:\n",
      "Please use `rate` instead of `keep_prob`. Rate should be set to `rate = 1 - keep_prob`.\n",
      "_________________________________________________________________\n",
      "Layer (type)                 Output Shape              Param #   \n",
      "=================================================================\n",
      "input (InputLayer)           (None, 17)                0         \n",
      "_________________________________________________________________\n",
      "dense_1 (Dense)              (None, 100)               1800      \n",
      "_________________________________________________________________\n",
      "dropout_1 (Dropout)          (None, 100)               0         \n",
      "_________________________________________________________________\n",
      "output (Dense)               (None, 1)                 101       \n",
      "=================================================================\n",
      "Total params: 1,901\n",
      "Trainable params: 1,901\n",
      "Non-trainable params: 0\n",
      "_________________________________________________________________\n"
     ]
    }
   ],
   "source": [
    "from keras.models import Sequential, Model\n",
    "from keras.optimizers import SGD\n",
    "from keras.layers import Input, Activation, Dense, Convolution2D, MaxPooling2D, Dropout, Flatten\n",
    "from keras.utils import np_utils\n",
    "\n",
    "NDIM = len(variables)\n",
    "inputs = Input(shape=(NDIM,), name = 'input') \n",
    "hidden = Dense(100, activation='relu')(inputs)\n",
    "hidden = Dropout(0.73, noise_shape=None, seed=None)(hidden)\n",
    "outputs = Dense(1, name = 'output', kernel_initializer='normal', activation='sigmoid')(hidden)\n",
    "\n",
    "# create the model\n",
    "model = Model(inputs=inputs, outputs=outputs)\n",
    "# compile the model\n",
    "model.compile(optimizer='adam', loss='binary_crossentropy', metrics=['accuracy'])\n",
    "# print the model summary\n",
    "model.summary()"
   ]
  },
  {
   "cell_type": "code",
   "execution_count": 5,
   "metadata": {},
   "outputs": [
    {
     "name": "stdout",
     "output_type": "stream",
     "text": [
      "[0. 1. 0. ... 1. 1. 1.]\n"
     ]
    }
   ],
   "source": [
    "from sklearn.model_selection import train_test_split\n",
    "X_train_val, X_test, Y_train_val, Y_test, w_train, w_test = train_test_split(X_, Y, sample_weights, test_size=0.2, random_state=7)\n",
    "\n",
    "# preprocessing: standard scalar\n",
    "from sklearn.preprocessing import StandardScaler\n",
    "scaler = StandardScaler().fit(X_train_val)\n",
    "X_train_val = scaler.transform(X_train_val)\n",
    "X_test = scaler.transform(X_test)\n",
    "\n",
    "# early stopping callback\n",
    "from keras.callbacks import EarlyStopping\n",
    "early_stopping = EarlyStopping(monitor='val_loss', patience=10)\n",
    "\n",
    "# model checkpoint callback\n",
    "# this saves our model architecture + parameters into dense_model.h5\n",
    "from keras.callbacks import ModelCheckpoint\n",
    "model_checkpoint = ModelCheckpoint('dense_model.h5', monitor='val_loss', \n",
    "                                   verbose=0, save_best_only=True, \n",
    "                                   save_weights_only=False, mode='auto', \n",
    "                                   period=1)\n",
    "print(Y_test)"
   ]
  },
  {
   "cell_type": "markdown",
   "metadata": {},
   "source": [
    "### Train classifier"
   ]
  },
  {
   "cell_type": "code",
   "execution_count": 6,
   "metadata": {},
   "outputs": [
    {
     "name": "stdout",
     "output_type": "stream",
     "text": [
      "WARNING:tensorflow:From /usr/local/lib/python3.6/dist-packages/tensorflow/python/ops/math_ops.py:3066: to_int32 (from tensorflow.python.ops.math_ops) is deprecated and will be removed in a future version.\n",
      "Instructions for updating:\n",
      "Use tf.cast instead.\n",
      "Train on 130578 samples, validate on 43527 samples\n",
      "Epoch 1/300\n",
      "130578/130578 [==============================] - 1s 7us/step - loss: 0.3117 - acc: 0.7978 - val_loss: 0.1973 - val_acc: 0.8887\n",
      "Epoch 2/300\n",
      "130578/130578 [==============================] - 1s 4us/step - loss: 0.1971 - acc: 0.8946 - val_loss: 0.1711 - val_acc: 0.9092\n",
      "Epoch 3/300\n",
      "130578/130578 [==============================] - 1s 4us/step - loss: 0.1834 - acc: 0.9047 - val_loss: 0.1679 - val_acc: 0.9127\n",
      "Epoch 4/300\n",
      "130578/130578 [==============================] - 1s 4us/step - loss: 0.1798 - acc: 0.9087 - val_loss: 0.1666 - val_acc: 0.9144\n",
      "Epoch 5/300\n",
      "130578/130578 [==============================] - 1s 4us/step - loss: 0.1775 - acc: 0.9102 - val_loss: 0.1659 - val_acc: 0.9144\n",
      "Epoch 6/300\n",
      "130578/130578 [==============================] - 1s 4us/step - loss: 0.1766 - acc: 0.9122 - val_loss: 0.1652 - val_acc: 0.9149\n",
      "Epoch 7/300\n",
      "130578/130578 [==============================] - 1s 4us/step - loss: 0.1754 - acc: 0.9125 - val_loss: 0.1646 - val_acc: 0.9167\n",
      "Epoch 8/300\n",
      "130578/130578 [==============================] - 1s 4us/step - loss: 0.1743 - acc: 0.9131 - val_loss: 0.1641 - val_acc: 0.9175\n",
      "Epoch 9/300\n",
      "130578/130578 [==============================] - 1s 4us/step - loss: 0.1736 - acc: 0.9131 - val_loss: 0.1636 - val_acc: 0.9165\n",
      "Epoch 10/300\n",
      "130578/130578 [==============================] - 1s 4us/step - loss: 0.1722 - acc: 0.9142 - val_loss: 0.1631 - val_acc: 0.9175\n",
      "Epoch 11/300\n",
      "130578/130578 [==============================] - 1s 4us/step - loss: 0.1716 - acc: 0.9148 - val_loss: 0.1628 - val_acc: 0.9176\n",
      "Epoch 12/300\n",
      "130578/130578 [==============================] - 1s 4us/step - loss: 0.1714 - acc: 0.9149 - val_loss: 0.1624 - val_acc: 0.9182\n",
      "Epoch 13/300\n",
      "130578/130578 [==============================] - 1s 4us/step - loss: 0.1699 - acc: 0.9158 - val_loss: 0.1621 - val_acc: 0.9183\n",
      "Epoch 14/300\n",
      "130578/130578 [==============================] - 1s 4us/step - loss: 0.1703 - acc: 0.9157 - val_loss: 0.1621 - val_acc: 0.9193\n",
      "Epoch 15/300\n",
      "130578/130578 [==============================] - 1s 4us/step - loss: 0.1700 - acc: 0.9164 - val_loss: 0.1617 - val_acc: 0.9186\n",
      "Epoch 16/300\n",
      "130578/130578 [==============================] - 1s 4us/step - loss: 0.1694 - acc: 0.9160 - val_loss: 0.1615 - val_acc: 0.9180\n",
      "Epoch 17/300\n",
      "130578/130578 [==============================] - 1s 4us/step - loss: 0.1692 - acc: 0.9160 - val_loss: 0.1613 - val_acc: 0.9192\n",
      "Epoch 18/300\n",
      "130578/130578 [==============================] - 1s 4us/step - loss: 0.1692 - acc: 0.9171 - val_loss: 0.1611 - val_acc: 0.9185\n",
      "Epoch 19/300\n",
      "130578/130578 [==============================] - 1s 4us/step - loss: 0.1690 - acc: 0.9163 - val_loss: 0.1609 - val_acc: 0.9183\n",
      "Epoch 20/300\n",
      "130578/130578 [==============================] - 1s 4us/step - loss: 0.1688 - acc: 0.9170 - val_loss: 0.1607 - val_acc: 0.9187\n",
      "Epoch 21/300\n",
      "130578/130578 [==============================] - 1s 4us/step - loss: 0.1682 - acc: 0.9174 - val_loss: 0.1604 - val_acc: 0.9185\n",
      "Epoch 22/300\n",
      "130578/130578 [==============================] - 1s 4us/step - loss: 0.1681 - acc: 0.9175 - val_loss: 0.1603 - val_acc: 0.9192\n",
      "Epoch 23/300\n",
      "130578/130578 [==============================] - 1s 4us/step - loss: 0.1678 - acc: 0.9178 - val_loss: 0.1602 - val_acc: 0.9193\n",
      "Epoch 24/300\n",
      "130578/130578 [==============================] - 1s 4us/step - loss: 0.1681 - acc: 0.9172 - val_loss: 0.1601 - val_acc: 0.9192\n",
      "Epoch 25/300\n",
      "130578/130578 [==============================] - 1s 4us/step - loss: 0.1674 - acc: 0.9177 - val_loss: 0.1602 - val_acc: 0.9196\n",
      "Epoch 26/300\n",
      "130578/130578 [==============================] - 1s 4us/step - loss: 0.1666 - acc: 0.9172 - val_loss: 0.1598 - val_acc: 0.9192\n",
      "Epoch 27/300\n",
      "130578/130578 [==============================] - 1s 4us/step - loss: 0.1672 - acc: 0.9176 - val_loss: 0.1601 - val_acc: 0.9200\n",
      "Epoch 28/300\n",
      "130578/130578 [==============================] - 1s 4us/step - loss: 0.1674 - acc: 0.9178 - val_loss: 0.1598 - val_acc: 0.9195\n",
      "Epoch 29/300\n",
      "130578/130578 [==============================] - 1s 4us/step - loss: 0.1675 - acc: 0.9179 - val_loss: 0.1598 - val_acc: 0.9191\n",
      "Epoch 30/300\n",
      "130578/130578 [==============================] - 1s 5us/step - loss: 0.1670 - acc: 0.9181 - val_loss: 0.1595 - val_acc: 0.9187\n",
      "Epoch 31/300\n",
      "130578/130578 [==============================] - 1s 4us/step - loss: 0.1669 - acc: 0.9176 - val_loss: 0.1595 - val_acc: 0.9200\n",
      "Epoch 32/300\n",
      "130578/130578 [==============================] - 1s 4us/step - loss: 0.1666 - acc: 0.9176 - val_loss: 0.1595 - val_acc: 0.9194\n",
      "Epoch 33/300\n",
      "130578/130578 [==============================] - 1s 4us/step - loss: 0.1671 - acc: 0.9185 - val_loss: 0.1594 - val_acc: 0.9199\n",
      "Epoch 34/300\n",
      "130578/130578 [==============================] - 1s 4us/step - loss: 0.1666 - acc: 0.9184 - val_loss: 0.1593 - val_acc: 0.9192\n",
      "Epoch 35/300\n",
      "130578/130578 [==============================] - 0s 4us/step - loss: 0.1657 - acc: 0.9179 - val_loss: 0.1594 - val_acc: 0.9200\n",
      "Epoch 36/300\n",
      "130578/130578 [==============================] - 1s 4us/step - loss: 0.1674 - acc: 0.9180 - val_loss: 0.1593 - val_acc: 0.9199\n",
      "Epoch 37/300\n",
      "130578/130578 [==============================] - 0s 4us/step - loss: 0.1666 - acc: 0.9174 - val_loss: 0.1593 - val_acc: 0.9201\n",
      "Epoch 38/300\n",
      "130578/130578 [==============================] - 0s 4us/step - loss: 0.1662 - acc: 0.9182 - val_loss: 0.1590 - val_acc: 0.9197\n",
      "Epoch 39/300\n",
      "130578/130578 [==============================] - 0s 4us/step - loss: 0.1665 - acc: 0.9186 - val_loss: 0.1591 - val_acc: 0.9195\n",
      "Epoch 40/300\n",
      "130578/130578 [==============================] - 0s 4us/step - loss: 0.1666 - acc: 0.9182 - val_loss: 0.1591 - val_acc: 0.9194\n",
      "Epoch 41/300\n",
      "130578/130578 [==============================] - 0s 4us/step - loss: 0.1671 - acc: 0.9183 - val_loss: 0.1589 - val_acc: 0.9199\n",
      "Epoch 42/300\n",
      "130578/130578 [==============================] - 0s 4us/step - loss: 0.1661 - acc: 0.9178 - val_loss: 0.1591 - val_acc: 0.9192\n",
      "Epoch 43/300\n",
      "130578/130578 [==============================] - 1s 4us/step - loss: 0.1657 - acc: 0.9185 - val_loss: 0.1590 - val_acc: 0.9199\n",
      "Epoch 44/300\n",
      "130578/130578 [==============================] - 0s 4us/step - loss: 0.1654 - acc: 0.9185 - val_loss: 0.1590 - val_acc: 0.9201\n",
      "Epoch 45/300\n",
      "130578/130578 [==============================] - 0s 4us/step - loss: 0.1661 - acc: 0.9184 - val_loss: 0.1590 - val_acc: 0.9201\n",
      "Epoch 46/300\n",
      "130578/130578 [==============================] - 0s 4us/step - loss: 0.1660 - acc: 0.9189 - val_loss: 0.1589 - val_acc: 0.9199\n",
      "Epoch 47/300\n",
      "130578/130578 [==============================] - 0s 4us/step - loss: 0.1660 - acc: 0.9186 - val_loss: 0.1589 - val_acc: 0.9191\n",
      "Epoch 48/300\n",
      "130578/130578 [==============================] - 0s 4us/step - loss: 0.1655 - acc: 0.9184 - val_loss: 0.1589 - val_acc: 0.9194\n",
      "Epoch 49/300\n",
      "130578/130578 [==============================] - 0s 4us/step - loss: 0.1662 - acc: 0.9182 - val_loss: 0.1590 - val_acc: 0.9203\n",
      "Epoch 50/300\n",
      "130578/130578 [==============================] - 0s 4us/step - loss: 0.1653 - acc: 0.9183 - val_loss: 0.1587 - val_acc: 0.9203\n",
      "Epoch 51/300\n",
      "130578/130578 [==============================] - 0s 4us/step - loss: 0.1665 - acc: 0.9180 - val_loss: 0.1586 - val_acc: 0.9200\n",
      "Epoch 52/300\n",
      "130578/130578 [==============================] - 1s 4us/step - loss: 0.1658 - acc: 0.9178 - val_loss: 0.1587 - val_acc: 0.9207\n",
      "Epoch 53/300\n",
      "130578/130578 [==============================] - 0s 4us/step - loss: 0.1652 - acc: 0.9184 - val_loss: 0.1586 - val_acc: 0.9203\n",
      "Epoch 54/300\n",
      "130578/130578 [==============================] - 0s 4us/step - loss: 0.1656 - acc: 0.9187 - val_loss: 0.1588 - val_acc: 0.9206\n",
      "Epoch 55/300\n",
      "130578/130578 [==============================] - 0s 4us/step - loss: 0.1654 - acc: 0.9184 - val_loss: 0.1586 - val_acc: 0.9199\n",
      "Epoch 56/300\n",
      "130578/130578 [==============================] - 0s 4us/step - loss: 0.1654 - acc: 0.9186 - val_loss: 0.1585 - val_acc: 0.9200\n",
      "Epoch 57/300\n",
      "130578/130578 [==============================] - 0s 4us/step - loss: 0.1653 - acc: 0.9180 - val_loss: 0.1587 - val_acc: 0.9203\n",
      "Epoch 58/300\n",
      "130578/130578 [==============================] - 0s 4us/step - loss: 0.1658 - acc: 0.9182 - val_loss: 0.1587 - val_acc: 0.9197\n",
      "Epoch 59/300\n",
      "130578/130578 [==============================] - 0s 4us/step - loss: 0.1658 - acc: 0.9182 - val_loss: 0.1585 - val_acc: 0.9203\n",
      "Epoch 60/300\n",
      "130578/130578 [==============================] - 0s 4us/step - loss: 0.1654 - acc: 0.9186 - val_loss: 0.1584 - val_acc: 0.9204\n",
      "Epoch 61/300\n",
      "130578/130578 [==============================] - 0s 4us/step - loss: 0.1652 - acc: 0.9185 - val_loss: 0.1584 - val_acc: 0.9207\n",
      "Epoch 62/300\n",
      "130578/130578 [==============================] - 0s 4us/step - loss: 0.1662 - acc: 0.9183 - val_loss: 0.1584 - val_acc: 0.9197\n",
      "Epoch 63/300\n",
      "130578/130578 [==============================] - 1s 4us/step - loss: 0.1660 - acc: 0.9183 - val_loss: 0.1586 - val_acc: 0.9200\n",
      "Epoch 64/300\n",
      "130578/130578 [==============================] - 1s 4us/step - loss: 0.1657 - acc: 0.9186 - val_loss: 0.1585 - val_acc: 0.9203\n",
      "Epoch 65/300\n",
      "130578/130578 [==============================] - 1s 4us/step - loss: 0.1658 - acc: 0.9184 - val_loss: 0.1584 - val_acc: 0.9201\n",
      "Epoch 66/300\n",
      "130578/130578 [==============================] - 1s 4us/step - loss: 0.1651 - acc: 0.9182 - val_loss: 0.1584 - val_acc: 0.9195\n",
      "Epoch 67/300\n",
      "130578/130578 [==============================] - 1s 4us/step - loss: 0.1651 - acc: 0.9188 - val_loss: 0.1583 - val_acc: 0.9198\n",
      "Epoch 68/300\n",
      "130578/130578 [==============================] - 1s 6us/step - loss: 0.1655 - acc: 0.9184 - val_loss: 0.1585 - val_acc: 0.9204\n",
      "Epoch 69/300\n",
      "130578/130578 [==============================] - 1s 8us/step - loss: 0.1658 - acc: 0.9186 - val_loss: 0.1584 - val_acc: 0.9196\n",
      "Epoch 70/300\n",
      "130578/130578 [==============================] - 1s 6us/step - loss: 0.1658 - acc: 0.9183 - val_loss: 0.1582 - val_acc: 0.9204\n",
      "Epoch 71/300\n",
      "130578/130578 [==============================] - 2s 12us/step - loss: 0.1650 - acc: 0.9189 - val_loss: 0.1583 - val_acc: 0.9202\n",
      "Epoch 72/300\n",
      "130578/130578 [==============================] - 1s 9us/step - loss: 0.1647 - acc: 0.9185 - val_loss: 0.1582 - val_acc: 0.9199\n",
      "Epoch 73/300\n",
      "130578/130578 [==============================] - 1s 7us/step - loss: 0.1648 - acc: 0.9184 - val_loss: 0.1582 - val_acc: 0.9201\n",
      "Epoch 74/300\n",
      "130578/130578 [==============================] - 1s 7us/step - loss: 0.1651 - acc: 0.9188 - val_loss: 0.1581 - val_acc: 0.9200\n",
      "Epoch 75/300\n",
      "130578/130578 [==============================] - 1s 9us/step - loss: 0.1652 - acc: 0.9188 - val_loss: 0.1582 - val_acc: 0.9198\n",
      "Epoch 76/300\n",
      "130578/130578 [==============================] - 1s 4us/step - loss: 0.1654 - acc: 0.9179 - val_loss: 0.1582 - val_acc: 0.9195\n",
      "Epoch 77/300\n",
      "130578/130578 [==============================] - 1s 4us/step - loss: 0.1653 - acc: 0.9187 - val_loss: 0.1583 - val_acc: 0.9200\n",
      "Epoch 78/300\n",
      "130578/130578 [==============================] - 1s 6us/step - loss: 0.1651 - acc: 0.9186 - val_loss: 0.1582 - val_acc: 0.9200\n",
      "Epoch 79/300\n",
      "130578/130578 [==============================] - 0s 4us/step - loss: 0.1652 - acc: 0.9184 - val_loss: 0.1582 - val_acc: 0.9203\n",
      "Epoch 80/300\n",
      "130578/130578 [==============================] - 1s 4us/step - loss: 0.1644 - acc: 0.9185 - val_loss: 0.1583 - val_acc: 0.9195\n",
      "Epoch 81/300\n",
      "130578/130578 [==============================] - 1s 8us/step - loss: 0.1657 - acc: 0.9181 - val_loss: 0.1583 - val_acc: 0.9201\n",
      "Epoch 82/300\n",
      "130578/130578 [==============================] - 2s 14us/step - loss: 0.1654 - acc: 0.9183 - val_loss: 0.1583 - val_acc: 0.9205\n",
      "Epoch 83/300\n",
      "130578/130578 [==============================] - 1s 8us/step - loss: 0.1651 - acc: 0.9185 - val_loss: 0.1581 - val_acc: 0.9201\n",
      "Epoch 84/300\n",
      "130578/130578 [==============================] - 2s 12us/step - loss: 0.1653 - acc: 0.9186 - val_loss: 0.1580 - val_acc: 0.9194\n",
      "Epoch 85/300\n",
      "130578/130578 [==============================] - 2s 14us/step - loss: 0.1652 - acc: 0.9182 - val_loss: 0.1579 - val_acc: 0.9197\n",
      "Epoch 86/300\n",
      "130578/130578 [==============================] - 2s 12us/step - loss: 0.1647 - acc: 0.9187 - val_loss: 0.1582 - val_acc: 0.9198\n",
      "Epoch 87/300\n",
      "130578/130578 [==============================] - 1s 4us/step - loss: 0.1649 - acc: 0.9181 - val_loss: 0.1580 - val_acc: 0.9201\n",
      "Epoch 88/300\n",
      "130578/130578 [==============================] - 1s 6us/step - loss: 0.1659 - acc: 0.9182 - val_loss: 0.1579 - val_acc: 0.9201\n",
      "Epoch 89/300\n",
      "130578/130578 [==============================] - 0s 4us/step - loss: 0.1650 - acc: 0.9183 - val_loss: 0.1580 - val_acc: 0.9196\n",
      "Epoch 90/300\n",
      "130578/130578 [==============================] - 1s 4us/step - loss: 0.1644 - acc: 0.9185 - val_loss: 0.1581 - val_acc: 0.9200\n",
      "Epoch 91/300\n",
      "130578/130578 [==============================] - 1s 4us/step - loss: 0.1652 - acc: 0.9179 - val_loss: 0.1580 - val_acc: 0.9203\n",
      "Epoch 92/300\n",
      "130578/130578 [==============================] - 0s 4us/step - loss: 0.1656 - acc: 0.9179 - val_loss: 0.1579 - val_acc: 0.9200\n",
      "Epoch 93/300\n",
      "130578/130578 [==============================] - 0s 4us/step - loss: 0.1646 - acc: 0.9184 - val_loss: 0.1581 - val_acc: 0.9202\n",
      "Epoch 94/300\n",
      "130578/130578 [==============================] - 0s 4us/step - loss: 0.1655 - acc: 0.9184 - val_loss: 0.1582 - val_acc: 0.9204\n",
      "Epoch 95/300\n",
      "130578/130578 [==============================] - 0s 4us/step - loss: 0.1649 - acc: 0.9184 - val_loss: 0.1579 - val_acc: 0.9200\n"
     ]
    }
   ],
   "source": [
    "history = model.fit(X_train_val, \n",
    "                    Y_train_val, \n",
    "                    epochs=300, \n",
    "                    batch_size=1024,\n",
    "                    sample_weight = w_train.flatten(),\n",
    "                    verbose=1,# switch to 1 for more verbosity \n",
    "                    callbacks=[model_checkpoint, early_stopping], \n",
    "                    validation_split=0.25)"
   ]
  },
  {
   "cell_type": "code",
   "execution_count": 7,
   "metadata": {},
   "outputs": [
    {
     "name": "stdout",
     "output_type": "stream",
     "text": [
      "[0, 0, 0, 0, 0, 0, 0, 0, 0, 0, 0, 0, 0, 0, 0, 0, 0, 0, 0, 0, 0, 0, 0, 0, 0, 0, 0, 0, 0, 0, 0, 0, 0, 0, 0, 0, 0, 0, 0, 0, 9.400000000048259e-06, 5.630000000000912e-05, 0.00015019999999998923, 0.00036610000000003584, 0.0006196000000000534, 0.0012297999999999476, 0.002412599999999987, 0.004008400000000023, 0.006655700000000042, 0.010326199999999952, 0.015554999999999986, 0.022858500000000004, 0.03401080000000001, 0.04975359999999995, 0.07194560000000005, 0.10387230000000003, 0.1453086, 0.19963390000000003, 0.26191030000000004, 0.3336494, 0.4126168, 0.4970101, 0.5861535, 0.6754001000000001, 0.7594837, 0.8355878999999999, 0.8965783, 0.94004226, 0.9690026, 0.98624736, 0.994714856, 0.998188198, 0.999474287, 0.9998497963, 0.999990642071, 1, 1, 1, 1, 1, 1, 1, 1, 1, 1, 1, 1, 1, 1, 1, 1, 1, 1, 1, 1, 1, 1, 1, 1, 1]\n"
     ]
    }
   ],
   "source": [
    "# graph with best TMVA performance\n",
    "Graph_fx1= [1, 1, 1, 1, 1, 1, 1, 1, 1, 1, 1, 1, 1, 1, 1, 1, 1, 1, 1, 1, 1, 1, 1, 1, 1, 1, 1, 1, 1, 1, 1, 1, 1, 1, 1, 1, 1, 1, 1, 1, 0.9999906, 0.9999437, 0.9998498, 0.9996339, 0.9993804, 0.9987702, 0.9975874, 0.9959916, 0.9933443, 0.9896738, 0.984445, 0.9771415, 0.9659892, 0.9502464, 0.9280544, 0.8961277, 0.8546914, 0.8003661, 0.7380897, 0.6663506, 0.5873832, 0.5029899, 0.4138465, 0.3245999, 0.2405163, 0.1644121, 0.1034217, 0.05995774, 0.0309974, 0.01375264, 0.005285144, 0.001811802, 0.000525713, 0.0001502037, 9.357929e-06, 0, 0, 0, 0, 0, 0, 0, 0, 0, 0, 0, 0, 0, 0, 0, 0, 0, 0, 0, 0, 0, 0, 0, 0, 0]\n",
    "Graph_fy1 = [2.373488e-316, 0, 0, 0, 0, 0, 0, 0, 0, 0, 0, 0, 0, 0, 0, 0, 0, 0, 0, 0, 0, 0, 0, 0, 0, 0, 0, 0, 0, 0, 0, 0, 0, 0, 0, 0, 0, 0, 0, 0.0003282994, 0.003282994, 0.01083388, 0.02757715, 0.0528562, 0.09422193, 0.1421537, 0.1999343, 0.2652659, 0.3315824, 0.3959291, 0.455023, 0.5233092, 0.5873277, 0.6434668, 0.7150361, 0.7721602, 0.8237032, 0.8722915, 0.9090611, 0.9349967, 0.9520683, 0.9697965, 0.9826002, 0.9894944, 0.993434, 0.9960604, 0.9970453, 0.9983585, 0.9996717, 1, 1, 1, 1, 1, 1, 1, 1, 1, 1, 1, 1, 1, 1, 1, 1, 1, 1, 1, 1, 1, 1, 1, 1, 1, 1, 1, 1, 1, 1, 1]\n",
    "\n",
    "for i in range(0, 100):\n",
    "    Graph_fx1[i]=1-Graph_fx1[i]\n",
    "\n",
    "print(Graph_fx1)"
   ]
  },
  {
   "cell_type": "code",
   "execution_count": 8,
   "metadata": {
    "scrolled": false
   },
   "outputs": [
    {
     "data": {
      "image/png": "[encoded data removed]",
      "text/plain": [
       "<Figure size 1500x1000 with 2 Axes>"
      ]
     },
     "metadata": {},
     "output_type": "display_data"
    },
    {
     "data": {
      "image/png": "[encoded data removed]",
      "text/plain": [
       "<Figure size 1500x1000 with 1 Axes>"
      ]
     },
     "metadata": {},
     "output_type": "display_data"
    }
   ],
   "source": [
    "plt.style.use('default')\n",
    "\n",
    "# plot loss vs epoch\n",
    "plt.figure(figsize=(15,10))\n",
    "ax = plt.subplot(2, 2, 1)\n",
    "ax.plot(history.history['loss'], label='loss')\n",
    "ax.plot(history.history['val_loss'], label='val_loss')\n",
    "ax.legend(loc=\"upper right\")\n",
    "ax.set_xlabel('epoch')\n",
    "ax.set_ylabel('loss')\n",
    "\n",
    "# plot accuracy vs epoch\n",
    "ax = plt.subplot(2, 2, 2)\n",
    "ax.plot(history.history['acc'], label='acc')\n",
    "ax.plot(history.history['val_acc'], label='val_acc')\n",
    "ax.legend(loc=\"upper left\")\n",
    "ax.set_xlabel('epoch')\n",
    "ax.set_ylabel('acc')\n",
    "plt.show()\n",
    "\n",
    "lw=2\n",
    "# Plot ROC\n",
    "plt.figure(figsize=(15,10))\n",
    "Y_predict = model.predict(X_test)\n",
    "from sklearn.metrics import roc_curve, auc\n",
    "fpr, tpr, thresholds = roc_curve(Y_test, Y_predict)\n",
    "roc_auc = auc(fpr, tpr)\n",
    "ax = plt.subplot(2, 2, 3)\n",
    "ax.plot(fpr, tpr, lw=2, color='cyan', label='auc = %.3f' % (roc_auc))\n",
    "plt.plot(Graph_fx1, Graph_fy1, color='darkcyan', lw=lw, label='ROC best TMVA')\n",
    "ax.plot([0, 1], [0, 1], linestyle='--', lw=2, color='k', label='random chance')\n",
    "ax.set_xlim([0, 1.0])\n",
    "ax.set_ylim([0, 1.0])\n",
    "ax.set_xlabel('false positive rate')\n",
    "ax.set_ylabel('true positive rate')\n",
    "ax.set_title('receiver operating curve')\n",
    "ax.legend(loc=\"lower right\")\n",
    "plt.show()"
   ]
  },
  {
   "cell_type": "code",
   "execution_count": 9,
   "metadata": {},
   "outputs": [
    {
     "name": "stdout",
     "output_type": "stream",
     "text": [
      "(5000,) (6814,) (6814,)\n"
     ]
    }
   ],
   "source": [
    "def fill_array(array_to_fill, value, index, batch_size):\n",
    "    array_to_fill[index*batch_size:min((index+1)*batch_size, array_to_fill.shape[0]),...] = value  \n",
    "\n",
    "TPR_thresholds = [0.98, 0.95, 0.935, 0.9, 0.7, 0.5, 0.3]\n",
    "\n",
    "fprs = []\n",
    "base_tpr = np.linspace(0, 1, 5000)\n",
    "print(base_tpr.shape, tpr.shape, fpr.shape)\n",
    "thresholds = []\n",
    "volatile=True\n",
    "best_batch_size = 1000"
   ]
  },
  {
   "cell_type": "markdown",
   "metadata": {},
   "source": [
    "# Plot with Signal/background discrimination"
   ]
  },
  {
   "cell_type": "code",
   "execution_count": 13,
   "metadata": {},
   "outputs": [
    {
     "name": "stderr",
     "output_type": "stream",
     "text": [
      "/usr/local/lib/python3.6/dist-packages/matplotlib/axes/_axes.py:6571: UserWarning: The 'normed' kwarg is deprecated, and has been replaced by the 'density' kwarg.\n",
      "  warnings.warn(\"The 'normed' kwarg is deprecated, and has been \"\n"
     ]
    },
    {
     "name": "stdout",
     "output_type": "stream",
     "text": [
      "disc_bkg:  [0.09549174 0.2201131  0.04844281 ... 0.22207844 0.10578963 0.10354443]\n",
      "disc_signal:  [0.83631897 0.9911649  0.9360305  ... 0.9979658  0.94242406 0.9845201 ]\n"
     ]
    },
    {
     "data": {
      "image/png": "[encoded data removed]",
      "text/plain": [
       "<Figure size 640x480 with 1 Axes>"
      ]
     },
     "metadata": {},
     "output_type": "display_data"
    },
    {
     "data": {
      "image/png": "[encoded data removed]",
      "text/plain": [
       "<Figure size 640x480 with 1 Axes>"
      ]
     },
     "metadata": {},
     "output_type": "display_data"
    }
   ],
   "source": [
    "y_frame = pd.DataFrame({'truth':Y_test, 'disc':Y_predict.flatten(), 'weight':w_test.flatten()})\n",
    "disc_bkg    = y_frame[y_frame['truth'] == 0]['disc'].values\n",
    "disc_signal = y_frame[y_frame['truth'] == 1]['disc'].values\n",
    "weight_bkg = y_frame[y_frame['truth'] == 0]['weight'].values\n",
    "weight_signal = y_frame[y_frame['truth'] == 1]['weight'].values\n",
    "plt.figure()\n",
    "plt.yscale(\"log\")\n",
    "plt.hist(disc_bkg, weights=weight_bkg, normed=True, bins=50, alpha=0.3, label='bachground')\n",
    "plt.hist(disc_signal, weights=weight_signal, normed=True, bins=50, alpha=0.3, label='signal')\n",
    "plt.xlabel('Signal/background discrimination')\n",
    "plt.ylabel('weightenet events, logscale')\n",
    "plt.savefig('mydiscriminator.png')\n",
    "print (\"disc_bkg: \", disc_bkg)\n",
    "print (\"disc_signal: \", disc_signal)\n",
    "fpr, tpr, threshold = roc_curve(Y_test, Y_predict, sample_weight = w_test)\n",
    "plt.legend()\n",
    "plt.figure()\n",
    "\n",
    "\n",
    "lw = 2\n",
    "plt.plot(fpr, tpr, color='darkorange',\n",
    "         lw=lw, label='ROC curve')\n",
    "plt.plot([0, 1], [0, 1], color='navy', lw=lw, linestyle='--')\n",
    "plt.xlim([0.0, 1.0])\n",
    "plt.ylim([0.0, 1.05])\n",
    "plt.xlabel('False Positive Rate')\n",
    "plt.ylabel('True Positive Rate')\n",
    "plt.title('Receiver operating characteristic example')\n",
    "plt.legend(loc=\"lower right\")\n",
    "#plt.show()\n",
    "plt.savefig('myroc_' + '.png')"
   ]
  },
  {
   "cell_type": "markdown",
   "metadata": {},
   "source": [
    "# Apply to another files\n",
    "## these files do not contain PhoJetotherDr variable!"
   ]
  },
  {
   "cell_type": "code",
   "execution_count": null,
   "metadata": {},
   "outputs": [],
   "source": [
    "variables = ['subleadingPhoton_pt', 'leadingPhoton_pt'     , 'subleadingPhoton_eta'        ,\n",
    "             'leadingPhoton_eta'  , 'subleadingJet_pt'     , 'leadingJet_pt'               , \n",
    "             'subleadingJet_eta'  , 'leadingJet_eta'       , 'leadingJet_DeepCSV'          ,  \n",
    "             'PhoJetMinDr'        , 'subleadingJet_DeepCSV', 'dijetCandidatePtOverdiHiggsM', \n",
    "             'absCosTheta_bb'     , 'HHbbggMVA'            , 'absCosThetaStar_CS'          , \n",
    "             'sigmaMJets'        ]"
   ]
  },
  {
   "cell_type": "code",
   "execution_count": null,
   "metadata": {},
   "outputs": [],
   "source": [
    "#filename = {}\n",
    "treename = {}\n",
    "#upfile = {}\n",
    "#params = {}\n",
    "#weights = {}\n",
    "#df = {}\n",
    "\n",
    "filename['sigtest'] = 'output_GluGluToHHTo2B2G_node_SM_13TeV-madgraph.root'\n",
    "filename['bkg_DiPhoton'] = 'output_DiPhotonJetsBox_MGG-80toInf_13TeV-Sherpa.root'\n",
    "filename['bkg_GJet20ti40'] = 'output_GJet_Pt-20to40_DoubleEMEnriched_MGG-80toInf_TuneCUETP8M1_13TeV_Pythia8.root'\n",
    "filename['bkg_GJet40toInf'] = 'output_GJet_Pt-40toInf_DoubleEMEnriched_MGG-80toInf_TuneCUETP8M1_13TeV_Pythia8.root'\n",
    "\n",
    "treename['sigtest'] = 'tagsDumper/trees/GluGluToHHTo2B2G_node_SM_13TeV_madgraph_13TeV_DoubleHTag_0'\n",
    "treename['bkg_DiPhoton'] = 'tagsDumper/trees/DiPhotonJetsBox_MGG_80toInf_13TeV_Sherpa_13TeV_DoubleHTag_0'\n",
    "treename['bkg_GJet20ti40'] = 'tagsDumper/trees/GJet_Pt_20to40_DoubleEMEnriched_MGG_80toInf_TuneCUETP8M1_13TeV_Pythia8_13TeV_DoubleHTag_0'\n",
    "treename['bkg_GJet40toInf'] = 'tagsDumper/trees/GJet_Pt_40toInf_DoubleEMEnriched_MGG_80toInf_TuneCUETP8M1_13TeV_Pythia8_13TeV_DoubleHTag_0'\n",
    "\n",
    "\n",
    "upfile['sigtest'] = uproot.open(filename['sigtest'])\n",
    "upfile['bkg_DiPhoton'] = uproot.open(filename['bkg_DiPhoton'])\n",
    "upfile['bkg_GJet20ti40'] = uproot.open(filename['bkg_GJet20ti40'])\n",
    "upfile['bkg_GJet40toInf'] = uproot.open(filename['bkg_GJet40toInf'])\n",
    "\n",
    "params['sigtest'] = upfile['sigtest'][treename['sigtest']].arrays(variables)\n",
    "params['bkg_DiPhoton'] = upfile['bkg_DiPhoton'][treename['bkg_DiPhoton']].arrays(variables)\n",
    "params['bkg_GJet20ti40'] = upfile['bkg_GJet20ti40'][treename['bkg_GJet20ti40']].arrays(variables)\n",
    "params['bkg_GJet40toInf'] = upfile['bkg_GJet40toInf'][treename['bkg_GJet40toInf']].arrays(variables)\n",
    "\n",
    "df['sigtest'] = pd.DataFrame(params['sigtest']) \n",
    "df['bkg_DiPhoton'] = pd.DataFrame(params['bkg_DiPhoton']) \n",
    "df['bkg_GJet20ti40'] = pd.DataFrame(params['bkg_GJet20ti40']) \n",
    "df['bkg_GJet40toInf'] = pd.DataFrame(params['bkg_GJet40toInf']) "
   ]
  },
  {
   "cell_type": "code",
   "execution_count": null,
   "metadata": {},
   "outputs": [],
   "source": [
    "X_sig = df['sigtest'].values\n",
    "X_bkg_DiPhoton = df['bkg_DiPhoton'].values\n",
    "X_bkg_GJet20ti40 = df['bkg_GJet20ti40'].values\n",
    "X_bkg_GJet40toInf = df['bkg_GJet40toInf'].values"
   ]
  },
  {
   "cell_type": "code",
   "execution_count": null,
   "metadata": {},
   "outputs": [],
   "source": [
    "X_bkg= scaler.transform(df['bkg'].values)\n",
    "X_sig= scaler.transform(X_sig)\n",
    "X_bkg_DiPhoton= scaler.transform(X_bkg_DiPhoton)\n",
    "X_bkg_GJet20ti40= scaler.transform(X_bkg_GJet20ti40)\n",
    "X_bkg_GJet40toInf= scaler.transform(X_bkg_GJet40toInf)\n",
    "\n",
    "Y_sig_predict = model.predict(X_sig)\n",
    "Y_bkg_predict = model.predict(X_bkg)\n",
    "Y_bkg_DiPhoton = model.predict(X_bkg_DiPhoton)\n",
    "Y_bkg_GJet20ti40 = model.predict(X_bkg_GJet20ti40)\n",
    "Y_bkg_GJet40toInf = model.predict(X_bkg_GJet40toInf)\n"
   ]
  },
  {
   "cell_type": "code",
   "execution_count": null,
   "metadata": {},
   "outputs": [],
   "source": [
    "weights_sig_test = rp.read_root(filename['sigtest'],\n",
    "                             treename['sigtest'], columns=['weight']).values\n",
    "\n",
    "weights_bkg_test = rp.read_root('Bkg_merged.root',\n",
    "                            'bbggSelectionTree', columns=['weight']).values\n",
    "\n",
    "weights_bkg_DiPhoton = rp.read_root(filename['bkg_DiPhoton'],\n",
    "                             treename['bkg_DiPhoton'], columns=['weight']).values\n",
    "\n",
    "weights_bkg_GJet20ti40 = rp.read_root(filename['bkg_GJet20ti40'],\n",
    "                             treename['bkg_GJet20ti40'], columns=['weight']).values\n",
    "\n",
    "weights_bkg_GJet40toInf = rp.read_root(filename['bkg_GJet40toInf'],\n",
    "                             treename['bkg_GJet40toInf'], columns=['weight']).values\n",
    "#print(weights_sig_test, weights_bkg_DiPhoton, weights_bkg_GJet20ti40, weights_bkg_GJet40toInf)\n",
    "\n",
    "weights_sig_test *= 100000.\n",
    "weights_bkg_DiPhoton *= 10000.\n",
    "weights_bkg_GJet20ti40 *= 1000.\n",
    "weights_bkg_GJet40toInf *= 100."
   ]
  },
  {
   "cell_type": "code",
   "execution_count": null,
   "metadata": {},
   "outputs": [],
   "source": [
    "Y_bkg_DiPhoton"
   ]
  },
  {
   "cell_type": "code",
   "execution_count": null,
   "metadata": {},
   "outputs": [],
   "source": [
    "#y_frame = pd.DataFrame({'truth':Y_test, 'disc':Y_predict.flatten(), 'weight':w_test.flatten()})\n",
    "#disc_bkg    = y_frame[y_frame['truth'] == 0]['disc'].values\n",
    "#disc_signal = y_frame[y_frame['truth'] == 1]['disc'].values\n",
    "#weight_bkg  = y_frame[y_frame['truth'] == 0]['weight'].values\n",
    "#weight_signal = y_frame[y_frame['truth'] == 1]['weight'].values\n",
    "#plt.figure()\n",
    "#plt.yscale(\"log\")\n",
    "\n",
    "#plt.hist(Y_bkg_DiPhoton, weights=weights_bkg_DiPhoton, normed=True, bins=50, alpha=0.3, color = \"blue\")\n",
    "#plt.hist(Y_bkg_GJet20ti40, weights=weights_bkg_GJet20ti40, normed=True, bins=50, alpha=0.3, color = \"yellow\")\n",
    "#plt.hist(Y_bkg_GJet40toInf, weights=weights_bkg_GJet40toInf, normed=True, bins=50, alpha=0.3, color = \"orange\")\n",
    "plt.hist(Y_sig_predict, normed=True, bins=50, alpha=0.3, color = \"red\", label='signal')\n",
    "plt.hist(Y_bkg_GJet20ti40, normed=True, bins=50, alpha=0.3, color = \"green\", label='background')\n",
    "plt.legend(loc='best')\n",
    "plt.figure()"
   ]
  },
  {
   "cell_type": "code",
   "execution_count": null,
   "metadata": {},
   "outputs": [],
   "source": [
    "pred_df = pd.DataFrame(Y_bkg_DiPhoton)\n",
    "pred_df.head()"
   ]
  },
  {
   "cell_type": "code",
   "execution_count": null,
   "metadata": {},
   "outputs": [],
   "source": [
    "pred_df.columns = ['ggHkiller']\n",
    "print(pred_df.shape)\n",
    "print(df['bkg_DiPhoton'].shape)\n",
    "pred_df.head()"
   ]
  },
  {
   "cell_type": "code",
   "execution_count": null,
   "metadata": {},
   "outputs": [],
   "source": [
    "df['bkg_DiPhoton']['ggHkiller'] = pred_df\n",
    "df['bkg_DiPhoton'].head()"
   ]
  },
  {
   "cell_type": "code",
   "execution_count": null,
   "metadata": {},
   "outputs": [],
   "source": [
    "df['bkg_DiPhoton'].to_root('output_DiPhotonJetsBox_MGG-80toInf_13TeV-Sherpa_ggHkiller.root', key='tagsDumper/trees/DiPhotonJetsBox_MGG_80toInf_13TeV_Sherpa_13TeV_DoubleHTag_0')"
   ]
  },
  {
   "cell_type": "code",
   "execution_count": null,
   "metadata": {},
   "outputs": [],
   "source": [
    "pred_df = pd.DataFrame(Y_bkg_GJet20ti40)\n",
    "pred_df.columns = ['ggHkiller']\n",
    "df['bkg_GJet20ti40']['ggHkiller'] = pred_df\n",
    "df['bkg_GJet20ti40'].head()\n",
    "df['bkg_GJet20ti40'].to_root('output_GJet_Pt-20to40_DoubleEMEnriched_MGG-80toInf_TuneCUETP8M1_13TeV_Pythia8_ggHkiller.root', key='tagsDumper/trees/GJet_Pt_20to40_DoubleEMEnriched_MGG_80toInf_TuneCUETP8M1_13TeV_Pythia8_13TeV_DoubleHTag_0')"
   ]
  },
  {
   "cell_type": "code",
   "execution_count": null,
   "metadata": {},
   "outputs": [],
   "source": [
    "pred_df = pd.DataFrame(Y_bkg_GJet40toInf)\n",
    "pred_df.columns = ['ggHkiller']\n",
    "df['bkg_GJet40toInf']['ggHkiller'] = pred_df\n",
    "df['bkg_GJet40toInf'].head()\n",
    "df['bkg_GJet40toInf'].to_root('output_GJet_Pt-40toInf_DoubleEMEnriched_MGG-80toInf_TuneCUETP8M1_13TeV_Pythia8_ggHkiller.root', key='tagsDumper/trees/GJet_Pt_40toInf_DoubleEMEnriched_MGG_80toInf_TuneCUETP8M1_13TeV_Pythia8_13TeV_DoubleHTag_0')"
   ]
  },
  {
   "cell_type": "markdown",
   "metadata": {},
   "source": [
    "## these files contain PhoJetotherDr variable"
   ]
  },
  {
   "cell_type": "code",
   "execution_count": null,
   "metadata": {},
   "outputs": [],
   "source": [
    "filename['bkg_2016'] = '/home/ann/Documents/НИР/CERNSummer/project/merge_files/new_files/output_GluGluHToGG_M-125_13TeV_powheg_pythia8_2016.root'\n",
    "filename['bkg_2017'] = '/home/ann/Documents/НИР/CERNSummer/project/merge_files/new_files/output_GluGluHToGG_M-125_13TeV_powheg_pythia8.root'\n",
    "filename['sig_2016'] = '/home/ann/Documents/НИР/CERNSummer/project/merge_files/new_files/output_GluGluToHHTo2B2G_node_SM_13TeV-madgraph_2016.root'\n",
    "filename['sig_2017'] = '/home/ann/Documents/НИР/CERNSummer/project/merge_files/new_files/output_GluGluToHHTo2B2G_node_SM_13TeV-madgraph.root'\n",
    "\n",
    "treename = 'bbggSelectionTree'\n",
    "\n",
    "upfile['bkg_2016'] = uproot.open(filename['bkg_2016'])\n",
    "upfile['bkg_2017'] = uproot.open(filename['bkg_2017'])\n",
    "upfile['sig_2016'] = uproot.open(filename['sig_2016'])\n",
    "upfile['sig_2017'] = uproot.open(filename['sig_2017'])\n",
    "\n",
    "\n",
    "params['bkg_2016'] = upfile['bkg_2016'][treename].arrays(variables)\n",
    "params['bkg_2017'] = upfile['bkg_2017'][treename].arrays(variables)\n",
    "params['sig_2016'] = upfile['sig_2016'][treename].arrays(variables)\n",
    "params['sig_2017'] = upfile['sig_2017'][treename].arrays(variables)\n",
    "\n",
    "df['bkg_2016'] = pd.DataFrame(params['bkg_2016']) \n",
    "df['bkg_2017'] = pd.DataFrame(params['bkg_2017']) \n",
    "df['sig_2016'] = pd.DataFrame(params['sig_2016']) \n",
    "df['sig_2017'] = pd.DataFrame(params['sig_2017']) "
   ]
  },
  {
   "cell_type": "code",
   "execution_count": null,
   "metadata": {},
   "outputs": [],
   "source": [
    "X_bkg2016 = df['bkg_2016'].values\n",
    "X_bkg2017 = df['bkg_2017'].values\n",
    "X_sig2016 = df['sig_2016'].values\n",
    "X_sig2017 = df['sig_2017'].values"
   ]
  },
  {
   "cell_type": "code",
   "execution_count": null,
   "metadata": {},
   "outputs": [],
   "source": [
    "weights['bkg_2016'] = upfile['bkg_2016'][treename].arrays(w)\n",
    "weights['bkg_2017'] = upfile['bkg_2017'][treename].arrays(w)\n",
    "weights['sig_2016'] = upfile['sig_2016'][treename].arrays(w)\n",
    "weights['sig_2017'] = upfile['sig_2017'][treename].arrays(w)\n",
    "\n",
    "weights_bkg2016 = pd.DataFrame(weights['bkg_2016'])\n",
    "weights_bkg2017 = pd.DataFrame(weights['bkg_2017'])\n",
    "weights_sig2016 = pd.DataFrame(weights['sig_2016'])\n",
    "weights_sig2017 = pd.DataFrame(weights['sig_2017'])\n",
    "\n",
    "weights_bkg2016 *= 10000.\n",
    "weights_bkg2017 *= 10000.\n",
    "weights_sig2016 *= 100000.\n",
    "weights_sig2017 *= 100000."
   ]
  },
  {
   "cell_type": "code",
   "execution_count": null,
   "metadata": {},
   "outputs": [],
   "source": [
    "X_bkg2016= scaler.transform(X_bkg2016)\n",
    "X_bkg2017= scaler.transform(X_bkg2017)\n",
    "X_sig2016= scaler.transform(X_sig2016)\n",
    "X_sig2017= scaler.transform(X_sig2017)"
   ]
  },
  {
   "cell_type": "code",
   "execution_count": null,
   "metadata": {},
   "outputs": [],
   "source": [
    "Y_bkg2016 = model.predict(X_bkg2016)\n",
    "Y_bkg2017 = model.predict(X_bkg2017)\n",
    "Y_sig2016 = model.predict(X_sig2016)\n",
    "Y_sig2017 = model.predict(X_sig2017)"
   ]
  },
  {
   "cell_type": "code",
   "execution_count": null,
   "metadata": {},
   "outputs": [],
   "source": [
    "plt.hist(Y_sig2016, normed=True, bins=50, alpha=0.3, color = \"red\", label='signal')\n",
    "plt.hist(Y_bkg2016, normed=True, bins=50, alpha=0.3, color = \"green\", label='background')\n",
    "plt.legend(loc='best')\n",
    "plt.figure()"
   ]
  },
  {
   "cell_type": "code",
   "execution_count": null,
   "metadata": {},
   "outputs": [],
   "source": [
    "plt.hist(Y_sig2017, normed=True, bins=50, alpha=0.3, color = \"red\", label='signal')\n",
    "plt.hist(Y_bkg2017, normed=True, bins=50, alpha=0.3, color = \"green\", label='background')\n",
    "plt.legend(loc='best')\n",
    "plt.figure()"
   ]
  },
  {
   "cell_type": "code",
   "execution_count": null,
   "metadata": {},
   "outputs": [],
   "source": [
    "import root_pandas as rp\n",
    "pred_df = pd.DataFrame(Y_sig2016)\n",
    "pred_df.columns = ['ggHkiller']\n",
    "pred_df.to_root('ggHkiller_sig2016.root', key='ggHkiller')"
   ]
  },
  {
   "cell_type": "code",
   "execution_count": null,
   "metadata": {},
   "outputs": [],
   "source": [
    "pred_df = pd.DataFrame(Y_sig2017)\n",
    "pred_df.columns = ['ggHkiller']\n",
    "pred_df.to_root('ggHkiller_sig2017.root', key='ggHkiller')"
   ]
  },
  {
   "cell_type": "code",
   "execution_count": null,
   "metadata": {},
   "outputs": [],
   "source": [
    "pred_df = pd.DataFrame(Y_bkg2016)\n",
    "pred_df.columns = ['ggHkiller']\n",
    "pred_df.to_root('ggHkiller_bkg2016.root', key='ggHkiller')"
   ]
  },
  {
   "cell_type": "code",
   "execution_count": null,
   "metadata": {},
   "outputs": [],
   "source": [
    "pred_df = pd.DataFrame(Y_bkg2017)\n",
    "pred_df.columns = ['ggHkiller']\n",
    "pred_df.to_root('ggHkiller_bkg2017.root', key='ggHkiller')"
   ]
  },
  {
   "cell_type": "markdown",
   "metadata": {},
   "source": [
    "# background files"
   ]
  },
  {
   "cell_type": "code",
   "execution_count": null,
   "metadata": {},
   "outputs": [],
   "source": [
    "filename['DoubleEG'] = '/home/ann/Documents/НИР/CERNSummer/project/ML/st_variables_add_ptmgg_ptmjj_dR/DoubleEG.root'\n",
    "filename['bbHToGG_M-125_4FS'] = '/home/ann/Documents/НИР/CERNSummer/project/ML/st_variables_add_ptmgg_ptmjj_dR/output_bbHToGG_M-125_4FS_yb2_13TeV_amcatnlo.root'\n",
    "filename['DiPhotonJetsBox_MGG'] = '/home/ann/Documents/НИР/CERNSummer/project/ML/st_variables_add_ptmgg_ptmjj_dR/output_DiPhotonJetsBox_MGG-80toInf_13TeV-Sherpa.root'\n",
    "filename['GJet_DoubleEMEnriched'] = '/home/ann/Documents/НИР/CERNSummer/project/ML/st_variables_add_ptmgg_ptmjj_dR/output_GJet_DoubleEMEnriched_MGG-80toInf_TuneCP5_13TeV_Pythia8.root'\n",
    "filename['GJet_Pt-20to40_DoubleEMEnriched'] = '/home/ann/Documents/НИР/CERNSummer/project/ML/st_variables_add_ptmgg_ptmjj_dR/output_GJet_Pt-20to40_DoubleEMEnriched_MGG-80toInf_TuneCUETP8M1_13TeV_Pythia8.root'\n",
    "filename['GJet_Pt-40toInf'] = '/home/ann/Documents/НИР/CERNSummer/project/ML/st_variables_add_ptmgg_ptmjj_dR/output_GJet_Pt-40toInf_DoubleEMEnriched_MGG-80toInf_TuneCUETP8M1_13TeV_Pythia8.root'\n",
    "filename['ttHToGG'] = '/home/ann/Documents/НИР/CERNSummer/project/ML/st_variables_add_ptmgg_ptmjj_dR/output_ttHToGG_M125_13TeV_powheg_pythia8.root'\n",
    "filename['VBFHToGG'] = '/home/ann/Documents/НИР/CERNSummer/project/ML/st_variables_add_ptmgg_ptmjj_dR/output_VBFHToGG_M-125_13TeV_powheg_pythia8.root'\n",
    "filename['VHToGG'] = '/home/ann/Documents/НИР/CERNSummer/project/ML/st_variables_add_ptmgg_ptmjj_dR/output_VHToGG_M125_13TeV_amcatnloFXFX_madspin_pythia8.root'\n",
    "filename['VBFHToGGamcatnlo'] = '/home/ann/Documents/НИР/CERNSummer/project/ML/st_variables_add_ptmgg_ptmjj_dR/output_VBFHToGG_M125_13TeV_amcatnlo_pythia8.root'\n",
    "\n",
    "treename = 'bbggSelectionTree'\n",
    "\n",
    "upfile['DoubleEG'] = uproot.open(filename['DoubleEG'])\n",
    "upfile['bbHToGG_M-125_4FS'] = uproot.open(filename['bbHToGG_M-125_4FS'])\n",
    "upfile['DiPhotonJetsBox_MGG'] = uproot.open(filename['DiPhotonJetsBox_MGG'])\n",
    "upfile['GJet_DoubleEMEnriched'] = uproot.open(filename['GJet_DoubleEMEnriched'])\n",
    "upfile['GJet_Pt-20to40_DoubleEMEnriched'] = uproot.open(filename['GJet_Pt-20to40_DoubleEMEnriched'])\n",
    "upfile['GJet_Pt-40toInf'] = uproot.open(filename['GJet_Pt-40toInf'])\n",
    "upfile['ttHToGG'] = uproot.open(filename['ttHToGG'])\n",
    "upfile['VBFHToGG'] = uproot.open(filename['VBFHToGG'])\n",
    "upfile['VHToGG'] = uproot.open(filename['VHToGG'])\n",
    "upfile['VBFHToGGamcatnlo'] = uproot.open(filename['VBFHToGGamcatnlo'])\n",
    "\n",
    "\n",
    "params['DoubleEG'] = upfile['DoubleEG'][treename].arrays(variables)\n",
    "params['bbHToGG_M-125_4FS'] = upfile['bbHToGG_M-125_4FS'][treename].arrays(variables)\n",
    "params['DiPhotonJetsBox_MGG'] = upfile['DiPhotonJetsBox_MGG'][treename].arrays(variables)\n",
    "params['GJet_DoubleEMEnriched'] = upfile['GJet_DoubleEMEnriched'][treename].arrays(variables)\n",
    "params['GJet_Pt-20to40_DoubleEMEnriched'] = upfile['GJet_Pt-20to40_DoubleEMEnriched'][treename].arrays(variables)\n",
    "params['GJet_Pt-40toInf'] = upfile['GJet_Pt-40toInf'][treename].arrays(variables)\n",
    "params['ttHToGG'] = upfile['ttHToGG'][treename].arrays(variables)\n",
    "params['VBFHToGG'] = upfile['VBFHToGG'][treename].arrays(variables)\n",
    "params['VHToGG'] = upfile['VHToGG'][treename].arrays(variables)\n",
    "params['VBFHToGGamcatnlo'] = upfile['VBFHToGGamcatnlo'][treename].arrays(variables)\n",
    "\n",
    "df['DoubleEG'] = pd.DataFrame(params['DoubleEG']) \n",
    "df['bbHToGG_M-125_4FS'] = pd.DataFrame(params['bbHToGG_M-125_4FS']) \n",
    "df['DiPhotonJetsBox_MGG'] = pd.DataFrame(params['DiPhotonJetsBox_MGG']) \n",
    "df['GJet_DoubleEMEnriched'] = pd.DataFrame(params['GJet_DoubleEMEnriched'])\n",
    "df['GJet_Pt-20to40_DoubleEMEnriched'] = pd.DataFrame(params['GJet_Pt-20to40_DoubleEMEnriched'])\n",
    "df['GJet_Pt-40toInf'] = pd.DataFrame(params['GJet_Pt-40toInf'])\n",
    "df['ttHToGG'] = pd.DataFrame(params['ttHToGG'])\n",
    "df['VBFHToGG'] = pd.DataFrame(params['VBFHToGG'])\n",
    "df['VHToGG'] = pd.DataFrame(params['VHToGG'])\n",
    "df['VBFHToGGamcatnlo'] = pd.DataFrame(params['VBFHToGGamcatnlo'])"
   ]
  },
  {
   "cell_type": "code",
   "execution_count": null,
   "metadata": {},
   "outputs": [],
   "source": [
    "X = {}\n",
    "Y = {}\n",
    "X['DoubleEG'] = df['DoubleEG'].values\n",
    "X['bbHToGG_M-125_4FS'] = df['bbHToGG_M-125_4FS'].values\n",
    "X['DiPhotonJetsBox_MGG'] = df['DiPhotonJetsBox_MGG'].values\n",
    "X['GJet_DoubleEMEnriched'] = df['GJet_DoubleEMEnriched'].values\n",
    "X['GJet_Pt-20to40_DoubleEMEnriched'] = df['GJet_Pt-20to40_DoubleEMEnriched'].values\n",
    "X['GJet_Pt-40toInf'] = df['GJet_Pt-40toInf'].values\n",
    "X['ttHToGG'] = df['ttHToGG'].values\n",
    "X['VBFHToGG'] = df['VBFHToGG'].values\n",
    "X['VHToGG'] = df['VHToGG'].values\n",
    "X['VBFHToGGamcatnlo'] = df['VBFHToGGamcatnlo'].values"
   ]
  },
  {
   "cell_type": "code",
   "execution_count": null,
   "metadata": {},
   "outputs": [],
   "source": [
    "X['DoubleEG']= scaler.transform(X['DoubleEG'])\n",
    "X['bbHToGG_M-125_4FS']= scaler.transform(X['bbHToGG_M-125_4FS'])\n",
    "X['DiPhotonJetsBox_MGG']= scaler.transform(X['DiPhotonJetsBox_MGG'])\n",
    "X['GJet_DoubleEMEnriched']= scaler.transform(X['GJet_DoubleEMEnriched'])\n",
    "X['GJet_Pt-20to40_DoubleEMEnriched']= scaler.transform(X['GJet_Pt-20to40_DoubleEMEnriched'])\n",
    "X['GJet_Pt-40toInf']= scaler.transform(X['GJet_Pt-40toInf'])\n",
    "X['ttHToGG']= scaler.transform(X['ttHToGG'])\n",
    "X['VBFHToGG']= scaler.transform(X['VBFHToGG'])\n",
    "X['VHToGG']= scaler.transform(X['VHToGG'])\n",
    "X['VBFHToGGamcatnlo']= scaler.transform(X['VBFHToGGamcatnlo'])"
   ]
  },
  {
   "cell_type": "code",
   "execution_count": null,
   "metadata": {},
   "outputs": [],
   "source": [
    "Y['DoubleEG'] = model.predict(X['DoubleEG'])\n",
    "Y['bbHToGG_M-125_4FS'] = model.predict(X['bbHToGG_M-125_4FS'])\n",
    "Y['DiPhotonJetsBox_MGG'] = model.predict(X['DiPhotonJetsBox_MGG'])\n",
    "Y['GJet_DoubleEMEnriched'] = model.predict(X['GJet_DoubleEMEnriched'])\n",
    "Y['GJet_Pt-20to40_DoubleEMEnriched'] = model.predict(X['GJet_Pt-20to40_DoubleEMEnriched'])\n",
    "Y['GJet_Pt-40toInf'] = model.predict(X['GJet_Pt-40toInf'])\n",
    "Y['ttHToGG'] = model.predict(X['ttHToGG'])\n",
    "Y['VBFHToGG'] = model.predict(X['VBFHToGG'])\n",
    "Y['VHToGG'] = model.predict(X['VHToGG'])\n",
    "Y['VBFHToGGamcatnlo'] = model.predict(X['VBFHToGGamcatnlo'])"
   ]
  },
  {
   "cell_type": "code",
   "execution_count": null,
   "metadata": {},
   "outputs": [],
   "source": [
    "plt.hist(Y_sig2016, normed=True, bins=50, alpha=0.3, color = \"red\", label='signal')\n",
    "plt.hist(Y['DoubleEG'], normed=True, bins=50, alpha=0.3, color = \"green\", label='background')\n",
    "plt.legend(loc='best')\n",
    "plt.figure()"
   ]
  },
  {
   "cell_type": "code",
   "execution_count": null,
   "metadata": {},
   "outputs": [],
   "source": [
    "labels = ['DoubleEG', 'bbHToGG_M-125_4FS', 'DiPhotonJetsBox_MGG', 'GJet_DoubleEMEnriched', \n",
    "'GJet_Pt-20to40_DoubleEMEnriched', 'GJet_Pt-40toInf', 'ttHToGG', 'VBFHToGG', 'VHToGG', 'VBFHToGGamcatnlo']\n",
    "\n",
    "for label in labels:\n",
    "    pred_df = pd.DataFrame(Y[label])\n",
    "    pred_df.columns = ['ggHkiller']\n",
    "    name = 'ggHkiller_'+label+'.root'\n",
    "    print(name)\n",
    "    pred_df.to_root(name, key='ggHkiller')"
   ]
  },
  {
   "cell_type": "markdown",
   "metadata": {},
   "source": [
    "# ROC curves for different MVA values "
   ]
  },
  {
   "cell_type": "code",
   "execution_count": 15,
   "metadata": {},
   "outputs": [],
   "source": [
    "var = ['subleadingPhoton_pt', 'leadingPhoton_pt'     , 'subleadingPhoton_eta'        ,\n",
    "       'leadingPhoton_eta'  , 'subleadingJet_pt'     , 'leadingJet_pt'               , \n",
    "       'subleadingJet_eta'  , 'leadingJet_eta'       , 'leadingJet_DeepCSV'          ,  \n",
    "       'PhoJetMinDr'        , 'subleadingJet_DeepCSV', 'dijetCandidatePtOverdiHiggsM', \n",
    "       'absCosTheta_bb'     , 'HHbbggMVA'            , 'absCosThetaStar_CS'          , \n",
    "       'sigmaMJets'         , 'PhoJetotherDr'        , 'HHbbggMVA', 'weight']"
   ]
  },
  {
   "cell_type": "code",
   "execution_count": 39,
   "metadata": {},
   "outputs": [],
   "source": [
    "treename = 'bbggSelectionTree'\n",
    "filename['sigMVA'] = 'Files/Signal_merged.root' # path to files\n",
    "upfile['sigMVA'] = uproot.open(filename['sigMVA'])\n",
    "params['sigMVA'] = upfile['sigMVA'][treename].arrays(var)\n",
    "df['sigMVA'] = pd.DataFrame(params['sigMVA'])\n",
    "df['sigMVA'].head()\n",
    "\n",
    "filename['bkgMVA'] = 'Files/Bkg_merged.root' # path to files\n",
    "upfile['bkgMVA'] = uproot.open(filename['bkgMVA'])\n",
    "params['bkgMVA'] = upfile['bkgMVA'][treename].arrays(var)\n",
    "df['bkgMVA'] = pd.DataFrame(params['bkgMVA'])\n"
   ]
  },
  {
   "cell_type": "code",
   "execution_count": 40,
   "metadata": {},
   "outputs": [],
   "source": [
    "df['MVA>0.25']= df['sigMVA'].loc[df['sigMVA'][b'HHbbggMVA'] > 0.25]\n",
    "df['MVA2550']= df['sigMVA'].loc[(df['sigMVA'][b'HHbbggMVA'] > 0.25) & (df['sig'][b'HHbbggMVA'] < 0.50)]\n",
    "df['MVA5075']= df['sigMVA'].loc[(df['sigMVA'][b'HHbbggMVA'] > 0.50) & (df['sig'][b'HHbbggMVA'] < 0.75)]\n",
    "df['MVA>75']= df['sigMVA'].loc[df['sigMVA'][b'HHbbggMVA'] > 0.75]\n",
    "df['MVA>0.25'].head()\n",
    "\n",
    "df['bkgMVA>0.25']= df['bkgMVA'].loc[df['sigMVA'][b'HHbbggMVA'] > 0.25]\n",
    "df['bkgMVA2550']= df['bkgMVA'].loc[(df['sigMVA'][b'HHbbggMVA'] > 0.25) & (df['sig'][b'HHbbggMVA'] < 0.50)]\n",
    "df['bkgMVA5075']= df['bkgMVA'].loc[(df['sigMVA'][b'HHbbggMVA'] > 0.50) & (df['sig'][b'HHbbggMVA'] < 0.75)]\n",
    "df['bkgMVA>75']= df['bkgMVA'].loc[df['sigMVA'][b'HHbbggMVA'] > 0.75]\n"
   ]
  },
  {
   "cell_type": "code",
   "execution_count": 41,
   "metadata": {},
   "outputs": [],
   "source": [
    "weights = {}\n",
    "weights['MVA>0.25'] = df['MVA>0.25'][b'weight']\n",
    "weights['MVA2550'] = df['MVA2550'][b'weight']\n",
    "weights['MVA5075'] = df['MVA5075'][b'weight']\n",
    "weights['MVA>75'] = df['MVA>75'][b'weight']\n",
    "\n",
    "weights['bkgMVA>0.25'] =df['bkgMVA>0.25'][b'weight']\n",
    "weights['bkgMVA2550'] = df['bkgMVA2550'][b'weight']\n",
    "weights['bkgMVA5075'] = df['bkgMVA5075'][b'weight']\n",
    "weights['bkgMVA>75'] =  df['bkgMVA>75'][b'weight']"
   ]
  },
  {
   "cell_type": "code",
   "execution_count": 42,
   "metadata": {},
   "outputs": [],
   "source": [
    "df['MVA>0.25'] = df['MVA>0.25'].drop([b'weight'], axis=1)\n",
    "df['MVA2550']=df['MVA2550'].drop([b'weight'], axis=1)\n",
    "df['MVA5075']=df['MVA5075'].drop([b'weight'], axis=1)\n",
    "df['MVA>75'] = df['MVA>75'].drop([b'weight'], axis=1)\n",
    "\n",
    "df['bkgMVA>0.25'] =df['bkgMVA>0.25'].drop([b'weight'], axis=1)\n",
    "df['bkgMVA2550']  =df['bkgMVA2550'].drop([b'weight'], axis=1)\n",
    "df['bkgMVA5075']  =df['bkgMVA5075'].drop([b'weight'], axis=1)\n",
    "df['bkgMVA>75']  = df['bkgMVA>75'].drop([b'weight'], axis=1)"
   ]
  },
  {
   "cell_type": "code",
   "execution_count": 43,
   "metadata": {},
   "outputs": [],
   "source": [
    "a = len(df['bkgMVA>0.25'])"
   ]
  },
  {
   "cell_type": "code",
   "execution_count": 44,
   "metadata": {},
   "outputs": [],
   "source": [
    "X = {}\n",
    "Y={}\n",
    "X['MVA>0.25'] = np.concatenate([df['MVA>0.25'].values,df['bkgMVA>0.25'].values])\n",
    "X['MVA2550']  = np.concatenate([df['MVA2550'].values,df['bkgMVA2550'].values])\n",
    "X['MVA5075']  = np.concatenate([df['MVA5075'].values,df['bkgMVA5075'].values])\n",
    "X['MVA>75']   = np.concatenate([df['MVA>75'].values,df['bkgMVA>75'].values])\n",
    "\n",
    "#creating numpy array for target variables\n",
    "Y['MVA>0.25'] = np.concatenate([np.ones(len(df['MVA>0.25'])),\n",
    "                        np.zeros(len(df['bkgMVA>0.25']))])\n",
    "Y['MVA2550'] = np.concatenate([np.ones(len(df['MVA2550'])),\n",
    "                        np.zeros(len(df['bkgMVA2550']))])\n",
    "Y['MVA5075'] = np.concatenate([np.ones(len(df['MVA5075'])),\n",
    "                        np.zeros(len(df['bkgMVA5075']))])\n",
    "Y['MVA>75'] = np.concatenate([np.ones(len(df['MVA>75'])),\n",
    "                        np.zeros(len(df['bkgMVA>75']))])"
   ]
  },
  {
   "cell_type": "code",
   "execution_count": 45,
   "metadata": {},
   "outputs": [
    {
     "data": {
      "text/plain": [
       "array([1., 1., 1., ..., 0., 0., 0.])"
      ]
     },
     "execution_count": 45,
     "metadata": {},
     "output_type": "execute_result"
    }
   ],
   "source": [
    "Y['MVA>0.25']"
   ]
  },
  {
   "cell_type": "code",
   "execution_count": 46,
   "metadata": {},
   "outputs": [],
   "source": [
    "X['MVA>0.25'] = scaler.transform(X['MVA>0.25'])\n",
    "X['MVA2550']  = scaler.transform(X['MVA2550'] )\n",
    "X['MVA5075']  = scaler.transform(X['MVA5075'] )\n",
    "X['MVA>75']   = scaler.transform(X['MVA>75']  )"
   ]
  },
  {
   "cell_type": "code",
   "execution_count": 47,
   "metadata": {},
   "outputs": [],
   "source": [
    "Ypred = {}\n",
    "Ypred['MVA>0.25']= model.predict(X['MVA>0.25'])\n",
    "Ypred['MVA2550'] = model.predict(X['MVA2550'] )\n",
    "Ypred['MVA5075'] = model.predict(X['MVA5075'] )\n",
    "Ypred['MVA>75']  = model.predict(X['MVA>75']  )"
   ]
  },
  {
   "cell_type": "code",
   "execution_count": 48,
   "metadata": {},
   "outputs": [
    {
     "data": {
      "text/plain": [
       "array([[0.72748554],\n",
       "       [0.9982977 ],\n",
       "       [0.99996614],\n",
       "       ...,\n",
       "       [0.8739197 ],\n",
       "       [0.03193086],\n",
       "       [0.02553536]], dtype=float32)"
      ]
     },
     "execution_count": 48,
     "metadata": {},
     "output_type": "execute_result"
    }
   ],
   "source": [
    "Ypred['MVA>0.25']"
   ]
  },
  {
   "cell_type": "code",
   "execution_count": 49,
   "metadata": {},
   "outputs": [
    {
     "name": "stdout",
     "output_type": "stream",
     "text": [
      "[[1.]\n",
      " [1.]\n",
      " [1.]\n",
      " ...\n",
      " [1.]\n",
      " [1.]\n",
      " [1.]]\n"
     ]
    }
   ],
   "source": [
    "\n",
    "Ypred['test'] = model.predict(df['bkgMVA>0.25'])\n",
    "print(Ypred['test'])"
   ]
  },
  {
   "cell_type": "code",
   "execution_count": 56,
   "metadata": {},
   "outputs": [
    {
     "data": {
      "image/png": "[encoded data removed]",
      "text/plain": [
       "<Figure size 640x480 with 1 Axes>"
      ]
     },
     "metadata": {},
     "output_type": "display_data"
    }
   ],
   "source": [
    "from sklearn.metrics import roc_curve, auc\n",
    "fpr, tpr, thresholds = roc_curve(Y['MVA>75'], Ypred['MVA>75'])\n",
    "roc_auc = auc(fpr, tpr)\n",
    "plt.plot(fpr, tpr, lw=2, color='cyan', label='auc = %.3f' % (roc_auc))\n",
    "plt.plot(Graph_fx1, Graph_fy1, color='darkcyan', lw=lw, label='ROC best TMVA')\n",
    "plt.plot([0, 1], [0, 1], linestyle='--', lw=2, color='k', label='random chance')\n",
    "plt.xlabel('False Positive Rate')\n",
    "plt.ylabel('True Positive Rate')\n",
    "plt.title('ROC; MVA > 0.75')\n",
    "plt.legend(loc=\"lower right\")\n",
    "ax.legend(loc=\"lower right\")\n",
    "plt.show()\n"
   ]
  },
  {
   "cell_type": "code",
   "execution_count": null,
   "metadata": {},
   "outputs": [],
   "source": []
  },
  {
   "cell_type": "code",
   "execution_count": null,
   "metadata": {},
   "outputs": [],
   "source": []
  },
  {
   "cell_type": "code",
   "execution_count": null,
   "metadata": {},
   "outputs": [],
   "source": []
  }
 ],
 "metadata": {
  "kernelspec": {
   "display_name": "Python 3",
   "language": "python",
   "name": "python3"
  },
  "language_info": {
   "codemirror_mode": {
    "name": "ipython",
    "version": 3
   },
   "file_extension": ".py",
   "mimetype": "text/x-python",
   "name": "python",
   "nbconvert_exporter": "python",
   "pygments_lexer": "ipython3",
   "version": "3.6.8"
  }
 },
 "nbformat": 4,
 "nbformat_minor": 2
}
